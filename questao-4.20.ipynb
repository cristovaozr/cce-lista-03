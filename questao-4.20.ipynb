{
 "cells": [
  {
   "cell_type": "markdown",
   "metadata": {},
   "source": [
    "# Resolução da questão 4.20 da lista de exercícios 03\n",
    "\n",
    "<ins>Aluno</ins>: Cristóvão Zuppardo Rufino (<cristovao.rufino@ufpe.br>)"
   ]
  },
  {
   "cell_type": "code",
   "execution_count": 1,
   "metadata": {},
   "outputs": [
    {
     "data": {
      "text/plain": [
       "(12, 24)"
      ]
     },
     "execution_count": 1,
     "metadata": {},
     "output_type": "execute_result"
    }
   ],
   "source": [
    "import numpy as np\n",
    "\n",
    "np.set_printoptions(suppress=True)\n",
    "\n",
    "I12 = np.eye(12, dtype=int)\n",
    "P12 = np.array([\n",
    "        [1, 0, 0, 0, 1, 1, 1, 0, 1, 1, 0, 1],\n",
    "        [0, 0, 0, 1, 1, 1, 0, 1, 1, 0, 1, 1],\n",
    "        [0, 0, 1, 1, 1, 0, 1, 1, 0, 1, 0, 1],\n",
    "        [0, 1, 1, 1, 0, 1, 1, 0, 1, 0, 0, 1],\n",
    "        [1, 1, 1, 0, 1, 1, 0, 1, 0, 0, 0, 1],\n",
    "        [1, 1, 0, 1, 1, 0, 1, 0, 0, 0, 1, 1],\n",
    "        [1, 0, 1, 1, 0, 1, 0, 0, 0, 1, 1, 1],\n",
    "        [0, 1, 1, 0, 1, 0, 0, 0, 1, 1, 1, 1],\n",
    "        [1, 1, 0, 1, 0, 0, 0, 1, 1, 1, 0, 1],\n",
    "        [1, 0, 1, 0, 0, 0, 1, 1, 1, 0, 1, 1],\n",
    "        [0, 1, 0, 0, 0, 1, 1, 1, 0, 1, 1, 1],\n",
    "        [1, 1, 1, 1, 1, 1, 1, 1, 1, 1, 1, 0]\n",
    "    ], dtype=int)\n",
    "\n",
    "# Concatenar as duas matrizes para fazer H = [I | P^T]\n",
    "H = np.hstack((I12, P12.T))\n",
    "H.shape"
   ]
  },
  {
   "cell_type": "code",
   "execution_count": 2,
   "metadata": {},
   "outputs": [],
   "source": [
    "def decode_golay(r: np.array) -> (bool, np.array):\n",
    "    \"\"\"Decodifica e corrige erro do código de Golay\n",
    "    Arguments:\n",
    "    ----------\n",
    "        r : np.array\n",
    "        Vetor recebido\n",
    "    \n",
    "    Returns:\n",
    "    --------\n",
    "        (bool, np.array)\n",
    "        Caso True, np.array contém o vetor corrigido. Caso contrário, desconsiderar o retorno\n",
    "    \"\"\"\n",
    "\n",
    "    s = np.remainder(np.matmul(r, H.T), 2)\n",
    "\n",
    "    if np.count_nonzero(s) <= 3:\n",
    "        e = np.hstack((s, np.zeros(12, dtype=int)))\n",
    "        return True, np.remainder(r + e, 2)\n",
    "\n",
    "    for i, p in enumerate(P12):\n",
    "        if np.count_nonzero(np.remainder(s + p, 2)) <= 2:\n",
    "            u = np.zeros(12, dtype=int)\n",
    "            u[i] = 1\n",
    "            e = np.hstack((np.remainder(s + p, 2), u))\n",
    "            return True, np.remainder(r + e, 2)\n",
    "\n",
    "    sP = np.matmul(s, P12)\n",
    "    if np.count_nonzero(sP) == 2 or np.count_nonzero(sP) == 3:\n",
    "        e = np.hstack((np.zeros(12, dtype=int), sP))\n",
    "        return True, np.remainder(r + e, 2)\n",
    "    \n",
    "    for i, p in enumerate(P12):\n",
    "        if np.count_nonzero(np.remainder(sP + p, 2)) == 2:\n",
    "            u = np.zeros(12, dtype=int)\n",
    "            u[i] = 1\n",
    "            e = np.hstack((u, np.remainder(sP + p, 2)))\n",
    "            return True, np.remainder(r + e, 2)\n",
    "    \n",
    "    # Falha de decodificação!\n",
    "    return False, None"
   ]
  },
  {
   "cell_type": "markdown",
   "metadata": {},
   "source": [
    "Letra a) `r = [1, 0, 1, 1, 0, 1, 1, 1, 0, 0, 1, 0, 0, 0, 0, 0, 1, 1, 0, 0, 0, 0, 1, 1]`"
   ]
  },
  {
   "cell_type": "code",
   "execution_count": 3,
   "metadata": {},
   "outputs": [
    {
     "name": "stdout",
     "output_type": "stream",
     "text": [
      "O vetor r pode ser decodificado e corrigido\n",
      "Recebido:  [1 0 1 1 0 1 1 1 0 0 1 0 0 0 0 0 1 1 0 0 0 0 1 1]\n",
      "Corrigido: [0 0 1 1 0 1 1 1 0 0 1 0 0 0 0 0 1 1 0 0 0 0 0 0]\n"
     ]
    }
   ],
   "source": [
    "r = np.array([1, 0, 1, 1, 0, 1, 1, 1, 0, 0, 1, 0, 0, 0, 0, 0, 1, 1, 0, 0, 0, 0, 1, 1], dtype=int)\n",
    "could_decode, r_star = decode_golay(r)\n",
    "\n",
    "if could_decode:\n",
    "    print(f\"O vetor r pode ser decodificado e corrigido\")\n",
    "    print(\"Recebido:  {}\\n\"\n",
    "          \"Corrigido: {}\".format(r, r_star))\n",
    "else:\n",
    "    print(\"Erro no processo de decodificação!\")"
   ]
  },
  {
   "cell_type": "markdown",
   "metadata": {},
   "source": [
    "Letra b) `r = [1, 0, 1, 1, 1, 1, 1, 1, 0, 0, 1, 0, 0, 0, 0, 0, 0, 0, 0, 0, 0, 0, 0, 1]`"
   ]
  },
  {
   "cell_type": "code",
   "execution_count": 4,
   "metadata": {},
   "outputs": [
    {
     "name": "stdout",
     "output_type": "stream",
     "text": [
      "O vetor r pode ser decodificado e corrigido\n",
      "Recebido:  [1 0 1 1 1 1 1 1 0 0 1 0 0 0 0 0 0 0 0 0 0 0 0 1]\n",
      "Corrigido: [1 1 1 1 1 1 1 1 1 1 1 0 0 0 0 0 0 0 0 0 0 0 0 1]\n"
     ]
    }
   ],
   "source": [
    "r = np.array([1, 0, 1, 1, 1, 1, 1, 1, 0, 0, 1, 0, 0, 0, 0, 0, 0, 0, 0, 0, 0, 0, 0, 1], dtype=int)\n",
    "could_decode, r_star = decode_golay(r)\n",
    "\n",
    "if could_decode:\n",
    "    print(f\"O vetor r pode ser decodificado e corrigido\")\n",
    "    print(\"Recebido:  {}\\n\"\n",
    "          \"Corrigido: {}\".format(r, r_star))\n",
    "else:\n",
    "    print(\"Erro no processo de decodificação!\")"
   ]
  }
 ],
 "metadata": {
  "kernelspec": {
   "display_name": "venv",
   "language": "python",
   "name": "python3"
  },
  "language_info": {
   "codemirror_mode": {
    "name": "ipython",
    "version": 3
   },
   "file_extension": ".py",
   "mimetype": "text/x-python",
   "name": "python",
   "nbconvert_exporter": "python",
   "pygments_lexer": "ipython3",
   "version": "3.11.5"
  },
  "orig_nbformat": 4
 },
 "nbformat": 4,
 "nbformat_minor": 2
}
